{
 "cells": [
  {
   "cell_type": "markdown",
   "id": "89af2ec6",
   "metadata": {},
   "source": [
    "# Análise de Agrupamento com KMeans, DBSCAN e SOM\n",
    "Este notebook responde às questões propostas sobre clustering com análise de outliers, normalização, avaliação e comparação entre algoritmos."
   ]
  },
  {
   "cell_type": "code",
   "execution_count": null,
   "id": "bcbc0138",
   "metadata": {},
   "outputs": [],
   "source": [
    "\n",
    "import pandas as pd\n",
    "import numpy as np\n",
    "import seaborn as sns\n",
    "import matplotlib.pyplot as plt\n",
    "from sklearn.preprocessing import MinMaxScaler\n",
    "from sklearn.cluster import KMeans, DBSCAN\n",
    "from sklearn.metrics import silhouette_score, davies_bouldin_score\n",
    "from scipy.spatial.distance import cdist\n",
    "from sklearn.decomposition import PCA\n",
    "from sklearn import datasets\n",
    "\n",
    "# Carregar a base Iris\n",
    "iris = datasets.load_iris()\n",
    "df = pd.DataFrame(iris.data, columns=iris.feature_names)\n",
    "df['target'] = iris.target\n",
    "df.head()\n"
   ]
  },
  {
   "cell_type": "code",
   "execution_count": null,
   "id": "ec2254cd",
   "metadata": {},
   "outputs": [],
   "source": [
    "\n",
    "# Identificação de outliers usando IQR\n",
    "def remove_outliers_iqr(df, cols):\n",
    "    for col in cols:\n",
    "        Q1 = df[col].quantile(0.25)\n",
    "        Q3 = df[col].quantile(0.75)\n",
    "        IQR = Q3 - Q1\n",
    "        lower = Q1 - 1.5 * IQR\n",
    "        upper = Q3 + 1.5 * IQR\n",
    "        df = df[(df[col] >= lower) & (df[col] <= upper)]\n",
    "    return df\n",
    "\n",
    "df_no_outliers = remove_outliers_iqr(df.copy(), iris.feature_names)\n",
    "df_no_outliers.shape\n"
   ]
  },
  {
   "cell_type": "code",
   "execution_count": null,
   "id": "07ece797",
   "metadata": {},
   "outputs": [],
   "source": [
    "\n",
    "scaler = MinMaxScaler()\n",
    "df_scaled = pd.DataFrame(scaler.fit_transform(df_no_outliers[iris.feature_names]), columns=iris.feature_names)\n",
    "df_scaled['target'] = df_no_outliers['target'].values\n",
    "df_scaled.head()\n"
   ]
  },
  {
   "cell_type": "code",
   "execution_count": null,
   "id": "232a4dfd",
   "metadata": {},
   "outputs": [],
   "source": [
    "\n",
    "distortions = []\n",
    "silhouette_scores = []\n",
    "K = range(2, 10)\n",
    "\n",
    "for k in K:\n",
    "    kmeans = KMeans(n_clusters=k, random_state=42)\n",
    "    kmeans.fit(df_scaled[iris.feature_names])\n",
    "    distortions.append(sum(np.min(cdist(df_scaled[iris.feature_names], kmeans.cluster_centers_, 'euclidean'), axis=1)) / df_scaled.shape[0])\n",
    "    silhouette_scores.append(silhouette_score(df_scaled[iris.feature_names], kmeans.labels_))\n",
    "\n",
    "plt.figure(figsize=(12,5))\n",
    "plt.subplot(1, 2, 1)\n",
    "plt.plot(K, distortions, 'bx-')\n",
    "plt.xlabel('k')\n",
    "plt.ylabel('Distortion')\n",
    "plt.title('Método do Cotovelo')\n",
    "\n",
    "plt.subplot(1, 2, 2)\n",
    "plt.plot(K, silhouette_scores, 'bo-')\n",
    "plt.xlabel('k')\n",
    "plt.ylabel('Silhouette Score')\n",
    "plt.title('Coeficiente de Silhouette')\n",
    "plt.tight_layout()\n",
    "plt.show()\n"
   ]
  }
 ],
 "metadata": {
  "colab": {
   "provenance": []
  },
  "kernelspec": {
   "display_name": "Python 3",
   "name": "python3"
  },
  "language_info": {
   "name": "python"
  }
 },
 "nbformat": 4,
 "nbformat_minor": 0
}
